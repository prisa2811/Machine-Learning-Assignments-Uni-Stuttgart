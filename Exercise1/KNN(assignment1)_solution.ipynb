{
  "nbformat": 4,
  "nbformat_minor": 0,
  "metadata": {
    "kernelspec": {
      "display_name": "Python 3",
      "language": "python",
      "name": "python3"
    },
    "language_info": {
      "codemirror_mode": {
        "name": "ipython",
        "version": 3
      },
      "file_extension": ".py",
      "mimetype": "text/x-python",
      "name": "python",
      "nbconvert_exporter": "python",
      "pygments_lexer": "ipython3",
      "version": "3.8.7"
    },
    "colab": {
      "name": "ver1_assignment1.ipynb",
      "provenance": [],
      "collapsed_sections": []
    }
  },
  "cells": [
    {
      "cell_type": "markdown",
      "metadata": {
        "id": "-3CH0hpdB5Kq"
      },
      "source": [
        "# Assignment 1: k-nearest neighbors (100 points)\n",
        "\n",
        "Only use the already imported libraries `numpy` and `matplotlib.pyplot` for the assignment. Do not import any other library. "
      ]
    },
    {
      "cell_type": "markdown",
      "metadata": {
        "id": "JNXAWLMWB5K1"
      },
      "source": [
        "==> *Write*\n",
        "* *Priyatham Kumanduri* \n",
        "* *3497429* \n",
        "* *Electrical Engineering*\n",
        "* *M.Sc.*\n",
        "\n",
        "*of all assignment group participants here.* (double klick here to edit)*"
      ]
    },
    {
      "cell_type": "code",
      "metadata": {
        "id": "uRtE32osB5K2"
      },
      "source": [
        "# Load required packages and dataset. Do not modify.\n",
        "import matplotlib.pyplot as plt\n",
        "import numpy as np\n",
        "\n",
        "\n",
        "def load_wine_dataset():\n",
        "    from sklearn import datasets\n",
        "    wine = datasets.load_wine()\n",
        "    X = wine.data\n",
        "    y = wine.target\n",
        "    return X, y\n",
        "    \n",
        "X, y = load_wine_dataset()\n"
      ],
      "execution_count": null,
      "outputs": []
    },
    {
      "cell_type": "markdown",
      "metadata": {
        "id": "mmsz8VzaB5K3"
      },
      "source": [
        "## Task 1: Visualization and Preprocessing (25 points)\n",
        "\n",
        "1) *(5 Points)* Explain the content of the dataset in few words. What are the input features? What is the classification target? Check out: [http://archive.ics.uci.edu/ml/datasets/Wine).\n"
      ]
    },
    {
      "cell_type": "markdown",
      "metadata": {
        "id": "7J67FlDoB5K4"
      },
      "source": [
        "==> *Write your response here.* (double klick here to edit)"
      ]
    },
    {
      "cell_type": "markdown",
      "metadata": {
        "id": "LaR0gtvsB5K4"
      },
      "source": [
        "2) *(5 Points)* Compute and print the following statistics about the dataset:\n",
        "  - Number of samples\n",
        "  - Number of samples per class\n",
        "  - Mean and standard deviation for each input feature\n"
      ]
    },
    {
      "cell_type": "code",
      "metadata": {
        "id": "bBpBBq_iB5K5",
        "colab": {
          "base_uri": "https://localhost:8080/"
        },
        "outputId": "a97f9639-fc9b-4747-ff26-2e22d99f54e2"
      },
      "source": [
        "# Implement your solution here.\n",
        "samples = lambda x: print(\"Number of samples =\", x.shape[0])\n",
        "samples_per_class = lambda x: print(\"Number of samples per class =\", x.shape[1])\n",
        "samples(X)\n",
        "samples_per_class(X)\n",
        "features = np.array(['Alcohol', 'Malic acid', 'Ash', 'Alcalinity of ash', 'Magnesium', 'Total phenols', 'Flavanoids', 'Nonflavanoid phenols', 'Proanthocyanins', 'Color intensity', 'Hue', 'OD280/OD315 of diluted wines', 'Proline'])\n",
        "mean = np.mean(X, axis = 0)\n",
        "std = np.std(X, axis = 0)\n",
        "for i in range(X.shape[1]):\n",
        "  print(\"The mean of\", features[i], \"=\", mean[i])\n",
        "  print(\"The standard deviation of\", features[i], \"=\", std[i])"
      ],
      "execution_count": null,
      "outputs": [
        {
          "output_type": "stream",
          "text": [
            "Number of samples = 178\n",
            "Number of samples per class = 13\n",
            "The mean of Alcohol = 13.000617977528083\n",
            "The standard deviation of Alcohol = 0.809542914528517\n",
            "The mean of Malic acid = 2.336348314606741\n",
            "The standard deviation of Malic acid = 1.1140036269797895\n",
            "The mean of Ash = 2.3665168539325854\n",
            "The standard deviation of Ash = 0.2735722944264325\n",
            "The mean of Alcalinity of ash = 19.49494382022472\n",
            "The standard deviation of Alcalinity of ash = 3.330169757658213\n",
            "The mean of Magnesium = 99.74157303370787\n",
            "The standard deviation of Magnesium = 14.242307673359807\n",
            "The mean of Total phenols = 2.295112359550562\n",
            "The standard deviation of Total phenols = 0.6240905641965366\n",
            "The mean of Flavanoids = 2.0292696629213474\n",
            "The standard deviation of Flavanoids = 0.9960489503792328\n",
            "The mean of Nonflavanoid phenols = 0.36185393258426973\n",
            "The standard deviation of Nonflavanoid phenols = 0.12410325988364797\n",
            "The mean of Proanthocyanins = 1.5908988764044953\n",
            "The standard deviation of Proanthocyanins = 0.5707488486199377\n",
            "The mean of Color intensity = 5.058089882022473\n",
            "The standard deviation of Color intensity = 2.3117646609525573\n",
            "The mean of Hue = 0.9574494382022468\n",
            "The standard deviation of Hue = 0.2279286065650725\n",
            "The mean of OD280/OD315 of diluted wines = 2.6116853932584254\n",
            "The standard deviation of OD280/OD315 of diluted wines = 0.7079932646716006\n",
            "The mean of Proline = 746.8932584269663\n",
            "The standard deviation of Proline = 314.0216568419877\n"
          ],
          "name": "stdout"
        }
      ]
    },
    {
      "cell_type": "markdown",
      "metadata": {
        "id": "Pl4s50qzB5K5"
      },
      "source": [
        "3) *(5 Points)* Visualize the variables *alcohol* and *magnesium* in a scatter plot (*alcohol* on the x-axis, *magnesium* on the y-axis). Color each point of the plot according to its class."
      ]
    },
    {
      "cell_type": "code",
      "metadata": {
        "colab": {
          "base_uri": "https://localhost:8080/",
          "height": 279
        },
        "id": "uHHhsUJrFlU0",
        "outputId": "ed5c6fce-189e-48d9-8042-a1b067529a5b"
      },
      "source": [
        "classes = ['class1', 'class2', 'class3']\n",
        "fig, axs = plt.subplots(1, 1)\n",
        "for class_index, classnames in enumerate(classes):\n",
        "    axs.scatter(X[y == class_index, 0], X[y == class_index, 4], label=classnames)\n",
        "plt.xlabel('Alcohol')\n",
        "plt.ylabel('Magnesium')\n",
        "plt.legend()\n",
        "plt.show()"
      ],
      "execution_count": null,
      "outputs": [
        {
          "output_type": "display_data",
          "data": {
            "image/png": "[encoded data removed]",
            "text/plain": [
              "<Figure size 432x288 with 1 Axes>"
            ]
          },
          "metadata": {
            "tags": [],
            "needs_background": "light"
          }
        }
      ]
    },
    {
      "cell_type": "markdown",
      "metadata": {
        "id": "RGf03Z9uB5K6"
      },
      "source": [
        "4) *(5 Points)* Split the dataset randomly into training and test data. 70% of data should be used for training and 30% should be used for testing. Implement the function `train_test_split`. Do not modify the interface of the function."
      ]
    },
    {
      "cell_type": "code",
      "metadata": {
        "scrolled": true,
        "id": "L5F_9SlhB5K6",
        "colab": {
          "base_uri": "https://localhost:8080/"
        },
        "outputId": "0f0a5767-0ad2-4e1d-899b-3f8ff1076c75"
      },
      "source": [
        "def train_test_split(X, y):\n",
        "    \"\"\"\n",
        "    Returns X_train, X_test, y_train, y_test, \n",
        "        where X_train and X_test are the input features of the training and test set,\n",
        "        and y_train and y_test are the class labels of the training and test set.\n",
        "    \"\"\"\n",
        "    import random\n",
        "    z = np.arange(X.shape[0])\n",
        "    np.random.shuffle(z)\n",
        "    xshuff = X[z]\n",
        "    yshuff = y[z]\n",
        "    splitpercent = round(0.7*X.shape[0]) # 125\n",
        "    X_train = xshuff[:splitpercent] #xshuff[0:125]\n",
        "    y_train = yshuff[:splitpercent]\n",
        "    X_test = xshuff[splitpercent:]\n",
        "    y_test = yshuff[splitpercent:]\n",
        "    return X_train, X_test, y_train, y_test\n",
        "\n",
        "X_train, X_test, y_train, y_test = train_test_split(X, y)\n",
        "print(X_train.shape)\n",
        "print(y_train.shape)\n",
        "assert (X_train.shape[0] + X_test.shape[0]) == X.shape[0]\n",
        "assert (y_train.shape[0] + y_test.shape[0]) == y.shape[0]\n",
        "assert X_train.shape[1] == X_test.shape[1]"
      ],
      "execution_count": null,
      "outputs": [
        {
          "output_type": "stream",
          "text": [
            "(125, 13)\n",
            "(125,)\n"
          ],
          "name": "stdout"
        }
      ]
    },
    {
      "cell_type": "markdown",
      "metadata": {
        "id": "QjElHGUsB5K7"
      },
      "source": [
        "5) *(5 Points)* kNN uses a distance measure to identify close neighbors. If the input features are not of the same scale, the distance is not as meaningful, which can negatively impact classification performance. Perform min-max scaling (i.e. scale the values of the input features in such a way that their range is from 0 to 1) on the training and test data. Remember that you should only use information from the training data to perform the scaling on both data sets."
      ]
    },
    {
      "cell_type": "code",
      "metadata": {
        "id": "Y2jBLbPiB5K8"
      },
      "source": [
        "# Implement your solution here\n",
        "xmin = np.min(X_train, axis =0)\n",
        "xmax = np.max(X_train, axis =0)\n",
        "def minmaxscale(X):\n",
        "  Xsc = np.divide(np.subtract(X, xmin), xmax - xmin)\n",
        "  return Xsc\n",
        "X_train = minmaxscale(X_train)\n",
        "X_test = minmaxscale(X_test)"
      ],
      "execution_count": null,
      "outputs": []
    },
    {
      "cell_type": "markdown",
      "metadata": {
        "id": "tVArumqdB5K8"
      },
      "source": [
        "## Task 2: k-nearest neighbors (50 Points)\n",
        "*Choose classes randomly if weights are equal for multiple classes*\n",
        "\n",
        "**For B.Sc. Data Science:**  \n",
        "\n",
        "Implement the kNN algorithm with uniform weighting and arbitrary `k`. Fill out the `predict` method of class `KNearestNeighbors`. \n",
        "\n",
        "Use Euclidean distance to determine the nearest neighbors.\n",
        "You can ignore the optional parameter `weights`, which is provided as a field in the kNN class.\n",
        "\n",
        "**For all students other than B.Sc. Data Science:**\n",
        "\n",
        "Implement the kNN algorithm with uniform and distance-based weighting and arbitrary `k`.\n",
        "Fill out the `predict` method of class `KNearestNeighbors`.\n",
        "\n",
        "The parameter `weights` will either contain the string `uniform` or `distance`. \n",
        "- If the value is `uniform`, the classifier should use the Euclidean distance for determining nearest neighbors and uniform weighting. \n",
        "- If the value is a `distance`, the classifier should use the Euclidean distance for determining neares neighbors and perform distance-weighted classification."
      ]
    },
    {
      "cell_type": "code",
      "metadata": {
        "id": "m_KaP8u7B5K9"
      },
      "source": [
        "class KNearestNeighbors(object):\n",
        "    def __init__(self, k, weights='uniform'):\n",
        "        self.k = k\n",
        "        self.weights = weights\n",
        "        \n",
        "    def fit(self, X, y):\n",
        "        \"\"\"\n",
        "        This functions saves the training data to be used during the prediction.\n",
        "        \"\"\"\n",
        "        self.X = X\n",
        "        self.y = y\n",
        "    \n",
        "    def predict(self, X):\n",
        "        \"\"\"\n",
        "        Returns a vector of shape (n,) if X has shape (n,d), \n",
        "        where n is the number of samples and d is the number of features.\n",
        "        \"\"\"\n",
        "        # Implement your solution here.\n",
        "        \n",
        "        distance_pairs = np.zeros(self.X.shape[0])\n",
        "        labels_final = np.zeros(X.shape[0])\n",
        "        nearest_samples = np.zeros([self.k, X.shape[1]])\n",
        "        nearest_labels = np.zeros(self.k)\n",
        "\n",
        "        if weights == 'uniform':\n",
        "          distance = euclidean_distance\n",
        "        \n",
        "        else:\n",
        "          distance = self.weights\n",
        "\n",
        "        for x1 in range(X.shape[0]):\n",
        "          weight_labels = np.zeros(len(np.unique(self.y)))\n",
        "\n",
        "          for x2 in range(self.X.shape[0]):\n",
        "            distance_pairs[x2] = distance(X[x1], self.X[x2])   #Finding distance pairs for every sample\n",
        "          nearest_samples = np.argsort(distance_pairs, axis=0)[:self.k]  #K nearest samples\n",
        "          nearest_labels = self.y[nearest_samples]                 # Finding class labels of k nearest samples\n",
        "          for label in range(self.k):\n",
        "            if self.weights == 'uniform':\n",
        "              weight_labels[int(nearest_labels[label])] += 1\n",
        "            else:\n",
        "              weight_labels[int(nearest_labels[label])] += 1/self.weights(X[x1], nearest_samples[label])\n",
        "          # majority class label selection\n",
        "          labels_final[x1] = np.argmax(weight_labels)\n",
        "\n",
        "        return labels_final\n",
        "        \n",
        "    \n",
        "def euclidean_distance(x1, x2):\n",
        "    \"\"\"\n",
        "    Given vectors x1 and x2 with shape (n,) returns distance between vectors as float.\n",
        "    \"\"\"\n",
        "    return np.sqrt(np.sum((x1 - x2)*(x1 - x2)))"
      ],
      "execution_count": null,
      "outputs": []
    },
    {
      "cell_type": "markdown",
      "metadata": {
        "id": "qFRfYQtOB5K9"
      },
      "source": [
        "## Task 3: Evaluation (25 Points)\n",
        "\n",
        "1) *(10 Points)* Implement functions to compute precision, recall and F1-score. `y_pred` and `y_true` are the vectors of predicted and true class labels respectively with shape `(n,)`, where `n` is the number of samples. Each function should return a float containing the corresponding score. It is advisable to implement a function for the confusion matrix and reuse it."
      ]
    },
    {
      "cell_type": "code",
      "metadata": {
        "id": "2xaaQuABoBXr"
      },
      "source": [
        "def confusion_matrix(y_pred, y_true, given_class):\n",
        "  true_positive = 0\n",
        "  true_negative = 0\n",
        "  false_positive = 0\n",
        "  false_negative = 0\n",
        "\n",
        "\n",
        "  for i in range(len(y_pred)):\n",
        "    if y_pred[i] == y_true[i] and y_true[i] == given_class:\n",
        "      true_positive = true_positive + 1\n",
        "    elif y_pred[i] != y_true[i] and y_true[i] == given_class:\n",
        "      false_positive = false_positive + 1\n",
        "    elif y_pred[i] == y_true[i] and y_true[i] != given_class:\n",
        "      true_negative = true_negative + 1 \n",
        "    else:\n",
        "        false_negative = false_negative + 1\n",
        "  #print(true_positive, true_negative, false_positive, false_negative)\n",
        "  return true_positive, true_negative, false_positive, false_negative\n",
        "    \n",
        "\n",
        "\n",
        "def precision(y_pred, y_true):\n",
        "    # Implement your solution here.\n",
        "    #precisions = []\n",
        "    precisions = np.zeros(len(np.unique(np.concatenate((y_pred, y_true)))))\n",
        "    #print(classlabels)\n",
        "    for classlabel in range(len(precisions)):\n",
        "      #print(classlabel)\n",
        "      t_p, t_n, f_p, f_n = confusion_matrix(y_pred, y_true, classlabel)\n",
        "      if t_p + f_p != 0:\n",
        "        p = t_p/(t_p + f_p)\n",
        "      else:\n",
        "        p = 0\n",
        "      precisions[classlabel] = p\n",
        "    return np.mean(precisions)\n",
        "\n",
        "\n",
        "def recall(y_pred, y_true):\n",
        "    # Implement your solution here.\n",
        "    #recalls = []\n",
        "    recalls = np.zeros(len(np.unique(np.concatenate((y_pred, y_true)))))\n",
        "    classlabels = np.unique(np.concatenate((y_pred, y_true)))\n",
        "    for classlabel in range(len(recalls)):\n",
        "      t_p, t_n, f_p, f_n = confusion_matrix(y_pred, y_true, classlabel)\n",
        "      r = t_p/(t_p + f_n)\n",
        "      recalls[classlabel] = r\n",
        "    return np.mean(recalls)\n",
        "\n",
        "def f1score(y_pred, y_true):\n",
        "    # Implement your solution here.\n",
        "    #f1scores = []\n",
        "    f1scores = np.zeros(len(np.unique(np.concatenate((y_pred, y_true)))))\n",
        "    #for classlabel in range(len(f1scores)):\n",
        "      #t_p, t_n, f_p, f_n = confusion_matrix(y_pred, y_true, classlabel)\n",
        "      #if t_p + f_p == 0:\n",
        "      #  p = 0\n",
        "      #else:\n",
        "    p = precision(y_pred, y_true)\n",
        "    r = recall(y_pred, y_true)\n",
        "    f = 2 * (p * r)/(p + r)\n",
        "    f1scores = f\n",
        "    return f1scores"
      ],
      "execution_count": null,
      "outputs": []
    },
    {
      "cell_type": "markdown",
      "metadata": {
        "id": "v7vO6vEDB5K-"
      },
      "source": [
        "2) *(10 Points)* Evaluate the performance of kNN with uniform weighting on the Wine dataset for `k=1,5,9`. Train each of the `3` classifiers on the training data from Task 1. Perform the predictions on both the training and test data. Then compute precision, recall, and F1-score for each model and for both training and test data. Visualize the performance in a plot, what do you observe?\n",
        "\n",
        "**For all students other than B.Sc. Data Science:** \n",
        "\n",
        "Also evaluate the kNN classifier with Euclidean distance-weighting. Compare the performance to uniform-weighting. How does the performance change compared to uniform weighting for each `k`?"
      ]
    },
    {
      "cell_type": "code",
      "metadata": {
        "colab": {
          "base_uri": "https://localhost:8080/",
          "height": 1000
        },
        "id": "AVtk6bK1ra1W",
        "outputId": "8af43519-3b0e-4711-8b26-5547fa6a9628"
      },
      "source": [
        "k_set = [1, 5, 9]\n",
        "weighting = ['uniform', euclidean_distance]\n",
        "#Evaluation_parameters = np.zeros((6, 3))\n",
        "Ep = []\n",
        "for weight in weighting:\n",
        "  if weight == 'uniform':\n",
        "    weights = 'uniform'\n",
        "    print('uniform')\n",
        "  else:\n",
        "    weights = euclidean_distance\n",
        "    print('euclidean')\n",
        "  for k in k_set:\n",
        "    classifier = KNearestNeighbors(k = k, weights = weights)\n",
        "    classifier.fit(X_train, y_train)\n",
        "    yexp_train = classifier.predict(X_train)\n",
        "    yexp_test = classifier.predict(X_test)\n",
        "    print('k =', k )\n",
        "    precision_test = precision(yexp_test, y_test)\n",
        "    recall_test = recall(yexp_test, y_test)\n",
        "    f1score_test = f1score(yexp_test, y_test)\n",
        "    precision_train = precision(yexp_train, y_train)\n",
        "    recall_train = recall(yexp_train, y_train)\n",
        "    f1score_train = f1score(yexp_train, y_train)\n",
        "    print('precision test =', precision_test)\n",
        "    print('recall test=', recall_test)\n",
        "    print('f1score test =', f1score_test)\n",
        "    print('precision train =', precision_train)\n",
        "    print('recall train=', recall_train)\n",
        "    print('f1score train =', f1score_train, '\\n')\n",
        "    parameters = [[precision_train, recall_train, f1score_train], [precision_test, recall_test, f1score_test]]\n",
        "    Ep.append(parameters)\n",
        "Ep = np.array(Ep)\n",
        "#print(Ep)\n",
        "ks = np.array(k_set)\n",
        "fig, axs = plt.subplots(3, 2, figsize = (10, 10))\n",
        "for rows in range(3):\n",
        "  for columns in range(2):\n",
        "    axs[rows, columns].bar(ks-0.3, Ep[:3, columns, rows], width = 0.6, label = 'uniform')\n",
        "    axs[rows, columns].bar(ks+0.3, Ep[3:, columns, rows], width = 0.6, label = 'euclidean')\n",
        "    axs[rows, columns].set_ylim((0.0, 1.0))\n",
        "axs[0, 0].set_ylabel('Precision')\n",
        "axs[1, 0].set_ylabel('Recall')\n",
        "axs[2, 0].set_ylabel('F1-Score')\n",
        "axs[0, 0].set_title('Training')\n",
        "axs[0, 1].set_title('Test')\n",
        "axs[-1, 0].set_xlabel('k')\n",
        "axs[-1, 1].set_xlabel('k')\n",
        "axs[-1, 0].set_xticks(ks)\n",
        "axs[0, 1].legend()\n"
      ],
      "execution_count": null,
      "outputs": [
        {
          "output_type": "stream",
          "text": [
            "uniform\n",
            "k = 1\n",
            "precision test = 0.9696969696969697\n",
            "recall test= 0.9232456140350878\n",
            "f1score test = 0.9459013515885554\n",
            "precision train = 1.0\n",
            "recall train= 1.0\n",
            "f1score train = 1.0 \n",
            "\n",
            "k = 5\n",
            "precision test = 0.9848484848484849\n",
            "recall test= 0.9592592592592593\n",
            "f1score test = 0.9718854635723359\n",
            "precision train = 0.9727891156462585\n",
            "recall train= 0.9359267734553777\n",
            "f1score train = 0.9540019899848303 \n",
            "\n",
            "k = 9\n",
            "precision test = 1.0\n",
            "recall test= 1.0\n",
            "f1score test = 1.0\n",
            "precision train = 0.9727891156462585\n",
            "recall train= 0.9359267734553777\n",
            "f1score train = 0.9540019899848303 \n",
            "\n",
            "euclidean\n",
            "k = 1\n",
            "precision test = 0.9696969696969697\n",
            "recall test= 0.9232456140350878\n",
            "f1score test = 0.9459013515885554\n",
            "precision train = 1.0\n",
            "recall train= 1.0\n",
            "f1score train = 1.0 \n",
            "\n",
            "k = 5\n",
            "precision test = 0.9545454545454546\n",
            "recall test= 0.8911764705882353\n",
            "f1score test = 0.9217731421121252\n",
            "precision train = 0.979591836734694\n",
            "recall train= 0.9507507507507508\n",
            "f1score train = 0.9649558376246928 \n",
            "\n",
            "k = 9\n",
            "precision test = 0.9545454545454546\n",
            "recall test= 0.8911764705882353\n",
            "f1score test = 0.9217731421121252\n",
            "precision train = 0.9580498866213153\n",
            "recall train= 0.9063607085346216\n",
            "f1score train = 0.9314887786045676 \n",
            "\n"
          ],
          "name": "stdout"
        },
        {
          "output_type": "execute_result",
          "data": {
            "text/plain": [
              "<matplotlib.legend.Legend at 0x7fb1ea4ceb10>"
            ]
          },
          "metadata": {
            "tags": []
          },
          "execution_count": 21
        },
        {
          "output_type": "display_data",
          "data": {
            "image/png": "[encoded data removed]",
            "text/plain": [
              "<Figure size 720x720 with 6 Axes>"
            ]
          },
          "metadata": {
            "tags": [],
            "needs_background": "light"
          }
        }
      ]
    },
    {
      "cell_type": "markdown",
      "metadata": {
        "id": "acgg9FpkB5K_"
      },
      "source": [
        "==> *Write your observations here and report your results.* (double klick here to edit)"
      ]
    },
    {
      "cell_type": "code",
      "metadata": {
        "id": "oJ1_0JAOiNLA"
      },
      "source": [
        ""
      ],
      "execution_count": null,
      "outputs": []
    },
    {
      "cell_type": "markdown",
      "metadata": {
        "id": "gNuNgQpXB5K_"
      },
      "source": [
        "3) *(5 Points)* Explain why kNN with `k=1` achieves perfect results on the training data. Why is it not the best model?"
      ]
    },
    {
      "cell_type": "markdown",
      "metadata": {
        "id": "rd4Cgx5oB5K_"
      },
      "source": [
        "As k=1 means that only the smallest distance to the nearest vector is taken into account this means that for the case k=1 on the training data, only the same vector will be taken into account or stated differenty, the distance vector will only include the distance 0 elements (since train and test which is train vector is the same). This way the prediction will work perfectly on the training data. On the test data or unknown data for the k=1 case only the closes vector clas will be considered. As a data can be an outlier and lies closes to another class but is in fact part of another class, the classifier computes the class with error. This is why k=1 is not the best model for our predictor, as it is very susceptible to outliers while we want to generalize."
      ]
    },
    {
      "cell_type": "code",
      "metadata": {
        "id": "5MJBobnUL9fY"
      },
      "source": [
        ""
      ],
      "execution_count": null,
      "outputs": []
    }
  ]
}