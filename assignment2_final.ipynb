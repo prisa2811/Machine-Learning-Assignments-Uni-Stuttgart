{
  "nbformat": 4,
  "nbformat_minor": 0,
  "metadata": {
    "kernelspec": {
      "display_name": "Python 3",
      "language": "python",
      "name": "python3"
    },
    "language_info": {
      "codemirror_mode": {
        "name": "ipython",
        "version": 3
      },
      "file_extension": ".py",
      "mimetype": "text/x-python",
      "name": "python",
      "nbconvert_exporter": "python",
      "pygments_lexer": "ipython3",
      "version": "3.8.0"
    },
    "colab": {
      "name": "assignment2.ipynb",
      "provenance": [],
      "collapsed_sections": []
    }
  },
  "cells": [
    {
      "cell_type": "markdown",
      "metadata": {
        "id": "C-sKjJ3zp_Kr"
      },
      "source": [
        "# Assignment 2: Naive Bayes and Text Classification\n",
        "\n",
        "Only use the already imported library `numpy`. Make sure that the `liar.txt` dataset is in the same directory as the notebook.\n",
        "\n",
        "List your team members (name and immatriculation number) in the following cell:"
      ]
    },
    {
      "cell_type": "code",
      "metadata": {
        "colab": {
          "resources": {
            "http://localhost:8080/nbextensions/google.colab/files.js": {
              "data": "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",
              "ok": true,
              "headers": [
                [
                  "content-type",
                  "application/javascript"
                ]
              ],
              "status": 200,
              "status_text": ""
            }
          },
          "base_uri": "https://localhost:8080/",
          "height": 73
        },
        "id": "k0knMQ8KqGjm",
        "outputId": "baa4919c-953c-44be-acb0-c23d37d245e9"
      },
      "source": [
        "from google.colab import files\n",
        "uploaded = files.upload()"
      ],
      "execution_count": 8,
      "outputs": [
        {
          "output_type": "display_data",
          "data": {
            "text/html": [
              "\n",
              "     <input type=\"file\" id=\"files-57b6cb02-c96d-45a0-a70e-9c802681ffa1\" name=\"files[]\" multiple disabled\n",
              "        style=\"border:none\" />\n",
              "     <output id=\"result-57b6cb02-c96d-45a0-a70e-9c802681ffa1\">\n",
              "      Upload widget is only available when the cell has been executed in the\n",
              "      current browser session. Please rerun this cell to enable.\n",
              "      </output>\n",
              "      <script src=\"/nbextensions/google.colab/files.js\"></script> "
            ],
            "text/plain": [
              "<IPython.core.display.HTML object>"
            ]
          },
          "metadata": {
            "tags": []
          }
        },
        {
          "output_type": "stream",
          "text": [
            "Saving spamham.txt to spamham.txt\n"
          ],
          "name": "stdout"
        }
      ]
    },
    {
      "cell_type": "markdown",
      "metadata": {
        "id": "ojQZzmJnp_LL"
      },
      "source": [
        "\n",
        "*Priyatham Kumanduri* \n",
        "* *3497429* \n",
        "* *Electrical Engineering*\n",
        "* *M.Sc.*\n",
        "\n",
        "*Albi Mema*  \n",
        "* 3516766\n",
        "* Infotech Embedded Systems\n",
        "* M.Sc.\n",
        "\n",
        "*Swathi Venkatesan*\n",
        "* 3505997\n",
        "* Infotech\n",
        "* MSc\n"
      ]
    },
    {
      "cell_type": "code",
      "metadata": {
        "colab": {
          "base_uri": "https://localhost:8080/"
        },
        "id": "FR7w4bvep_LN",
        "outputId": "3b18a388-ab0a-4057-e042-2a6f86745fb7"
      },
      "source": [
        "# Load required packages and dataset. Do not modify.\n",
        "import numpy as np\n",
        "\n",
        "\n",
        "def load_liar_dataset():\n",
        "    import string\n",
        "    \n",
        "    with open('liar.txt', mode='r', encoding='utf-8') as f:\n",
        "        rows = [l.strip().split('\\t')[:2] for l in f]\n",
        "    \n",
        "    y, X = zip(*rows)\n",
        "    X =[x.translate(str.maketrans('', '', string.punctuation)).lower().split() for x in X]\n",
        "    \n",
        "    return X, y\n",
        "    \n",
        "\n",
        "X, y = load_liar_dataset()\n",
        "\n",
        "print('Sample:')\n",
        "print(f'{y[0]}: {X[0]}')\n",
        "print(f'{y[1]}: {X[1]}')"
      ],
      "execution_count": 18,
      "outputs": [
        {
          "output_type": "stream",
          "text": [
            "Sample:\n",
            "ham: ['go', 'until', 'jurong', 'point', 'crazy', 'available', 'only', 'in', 'bugis', 'n', 'great', 'world', 'la', 'e', 'buffet', 'cine', 'there', 'got', 'amore', 'wat']\n",
            "ham: ['ok', 'lar', 'joking', 'wif', 'u', 'oni']\n"
          ],
          "name": "stdout"
        }
      ]
    },
    {
      "cell_type": "markdown",
      "metadata": {
        "id": "qSn2rZpRp_LT"
      },
      "source": [
        "## Task 2: Fake News Classification with Naive Bayes\n",
        "\n",
        "Implement a Naive Bayes classifier with Laplace smoothing to detect whether a text message is fake or real (not fake).\n",
        "\n",
        "A text message is represented by a list of string tokens as shown above.\n",
        "The classification target is binary and the two possible labels are the strings `'fake'` and `'real'`.\n",
        "\n",
        "Fill out the methods in `NaiveBayesFakeNewsClassifier` to train (`fit`) and predict (`predict`). Feel free to introduce new fields and methods based on your needs, but the methods `fit` and `predict` are required and their interface should not be changed.\n",
        "\n",
        "Hint: Try to map the text messages to word frequency vectors by counting how often each word occurs in a message."
      ]
    },
    {
      "cell_type": "code",
      "metadata": {
        "id": "0Z7vfiIZp_LW"
      },
      "source": [
        "# Implement your solution here.\n",
        "from collections import Counter\n",
        "class NaiveBayesFakeNewsClassifier(object):\n",
        "    def __init__(self):\n",
        "        self.vocab_real = dict()\n",
        "        self.vocab_fake = dict()\n",
        "        self.number_of_articles = 0\n",
        "        self.classes = [0, 0]\n",
        "        self.articles_per_class = [0, 0]\n",
        "        self.priors = [0, 0]\n",
        "        self.total_words_count = 0\n",
        "\n",
        "    \n",
        "    def fit(self, X, y):\n",
        "        \"\"\"\n",
        "        X is a list of `n` text messages. Each text message is a list of strings with at least length one.\n",
        "        y is a list of `n` labels either the string 'fake' or the string 'real'.\n",
        "        \"\"\"\n",
        "        dict_y = dict()\n",
        "        self.number_of_articles = len(X) # Storing number of articles present in X\n",
        "        self.dict_y = dict(Counter(y))\n",
        "        self.classes = list(self.dict_y.keys()) # Storing no of classes present in y\n",
        "        print(self.classes)\n",
        "        self.articles_per_class = list(dict(Counter(y)).values()) # Storing no of articles each class have in list\n",
        "        # Creating two bags of words each for real and fake classes\n",
        "        for i in range(len(X)):\n",
        "\n",
        "          if y[i] == 'real':\n",
        "            class_label = 0\n",
        "            self.vocab_real = dict(Counter(self.vocab_real) + Counter(X[i]))\n",
        "          \n",
        "          elif y[i] == 'fake':\n",
        "            class_label = 1\n",
        "            self.vocab_fake = dict(Counter(self.vocab_fake) + Counter(X[i]))\n",
        "          # Finding the log priors of both classes\n",
        "        self.total_words_count = len(Counter(self.vocab_real) + Counter(self.vocab_fake))\n",
        "        self.priors = [np.log(self.articles_per_class[0]/self.number_of_articles), np.log(self.articles_per_class[1]/self.number_of_articles)]\n",
        "        \n",
        "    \n",
        "    def predict(self, X):\n",
        "        \"\"\"\n",
        "        X is a list of `n` text messages. Each text message is a list of strings with at least length one.\n",
        "        The method returns a list of `n` strings, i.e. classification labels ('fake' or 'real').\n",
        "        \"\"\"\n",
        "        \n",
        "    # Finding the positive and negative likelihood then considering the class with highest likelihood as the predicted class\n",
        "        classification_labels = []\n",
        "        for i in range(len(X)): \n",
        "          pos_likelihood = 0\n",
        "          neg_likelihood = 0\n",
        "          for j in X[i]:\n",
        "            if j in self.vocab_real:\n",
        "              pos_likelihood = pos_likelihood + np.log(((self.vocab_real[j] + 1)/(sum(self.vocab_real.values()) + self.total_words_count + 1)))\n",
        "            else:\n",
        "              pos_likelihood = pos_likelihood + np.log(((1)/(sum(self.vocab_real.values()) + self.total_words_count + 1)))\n",
        "\n",
        "            if j in self.vocab_fake:\n",
        "              neg_likelihood = neg_likelihood + np.log(((self.vocab_fake[j] + 1)/(sum(self.vocab_fake.values()) + self.total_words_count + 1)))\n",
        "            else:\n",
        "              neg_likelihood = neg_likelihood + np.log(((1)/(sum(self.vocab_fake.values()) + self.total_words_count + 1)))\n",
        "          \n",
        "          pos_likelihood = pos_likelihood + self.priors[0]\n",
        "          neg_likelihood = neg_likelihood + self.priors[1]\n",
        "          probabilities = np.array([pos_likelihood, neg_likelihood])\n",
        "          \n",
        "          label = np.argmax(probabilities)\n",
        "          \n",
        "          classification_labels.append(self.classes[label])\n",
        "          \n",
        "    \n",
        "        return classification_labels\n"
      ],
      "execution_count": 19,
      "outputs": []
    },
    {
      "cell_type": "code",
      "metadata": {
        "colab": {
          "base_uri": "https://localhost:8080/",
          "height": 594
        },
        "id": "M2kJJrURp_LZ",
        "outputId": "0311c6af-8ad3-405a-b011-ea6206ee7819"
      },
      "source": [
        "# The following code will evaluate your classifier.\n",
        "class RealClassifier(object):\n",
        "    \"\"\"\n",
        "    This classifier is a primitive baseline, which just predicts the most common class each time.\n",
        "    Naive Bayes should definitely beat this.\n",
        "    \"\"\"\n",
        "    def fit(self, X, y): pass\n",
        "    def predict(self, X): return len(X)*['real']\n",
        "\n",
        "    \n",
        "def train_evaluate(classifier, X, y):\n",
        "    from sklearn.metrics import confusion_matrix\n",
        "    from sklearn.model_selection import train_test_split\n",
        "    \n",
        "    # Apply train-test split.\n",
        "    X_train, X_test, y_train, y_test = train_test_split(X, y, test_size=0.3, random_state=2020)\n",
        "    # Inititialize and train classifier.\n",
        "    classifier.fit(X_train, y_train)\n",
        "    # Evaluate classifier on test data.\n",
        "    yhat_test = classifier.predict(X_test)\n",
        "    cmatrix = confusion_matrix(y_test, yhat_test, labels=['real', 'fake'])\n",
        "    \n",
        "    return cmatrix\n",
        "\n",
        "\n",
        "def plot_confusion_matrix(cmatrix, classifier_name):\n",
        "    import matplotlib.pyplot as plt\n",
        "    \n",
        "    fig, ax = plt.subplots(1, 1)\n",
        "    ax.matshow(cmatrix, cmap='Greens')\n",
        "    for x in (0, 1):\n",
        "        for y in (0, 1):\n",
        "            ax.text(x, y, cmatrix[y, x])\n",
        "    ax.set_xlabel('predicted label')\n",
        "    ax.set_ylabel('true label')\n",
        "    ax.set_xticklabels(['', 'real', 'fake'])\n",
        "    ax.set_yticklabels(['', 'real', 'fake'])\n",
        "    ax.set_title(classifier_name)\n",
        "\n",
        "    \n",
        "    \n",
        "real_classifier = RealClassifier()\n",
        "your_classifier = NaiveBayesFakeNewsClassifier()\n",
        "real_cmatrix = train_evaluate(real_classifier, X, y)\n",
        "your_cmatrix = train_evaluate(your_classifier, X, y)\n",
        "\n",
        "plot_confusion_matrix(real_cmatrix, 'RealClassifier')\n",
        "plot_confusion_matrix(your_cmatrix, 'NaiveBayesFakeNewsClassifier')\n",
        "tp = your_cmatrix[0][0]\n",
        "tn = your_cmatrix[1][1]\n",
        "fp = your_cmatrix[0][1]\n",
        "fn = your_cmatrix[1][0]\n",
        "accuracy = (tp+tn)/(tp+fp+tn+fn)\n",
        "print('The accuracy is =', accuracy)"
      ],
      "execution_count": 20,
      "outputs": [
        {
          "output_type": "stream",
          "text": [
            "['ham', 'spam']\n",
            "The accuracy is = 0.976688583383144\n"
          ],
          "name": "stdout"
        },
        {
          "output_type": "display_data",
          "data": {
            "image/png": "[encoded data removed]",
            "text/plain": [
              "<Figure size 432x288 with 1 Axes>"
            ]
          },
          "metadata": {
            "tags": [],
            "needs_background": "light"
          }
        },
        {
          "output_type": "display_data",
          "data": {
            "image/png": "[encoded data removed]",
            "text/plain": [
              "<Figure size 432x288 with 1 Axes>"
            ]
          },
          "metadata": {
            "tags": [],
            "needs_background": "light"
          }
        }
      ]
    },
    {
      "cell_type": "code",
      "metadata": {
        "id": "LblqiV47WKQU"
      },
      "source": [
        ""
      ],
      "execution_count": null,
      "outputs": []
    }
  ]
}